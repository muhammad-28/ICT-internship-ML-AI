{
  "nbformat": 4,
  "nbformat_minor": 0,
  "metadata": {
    "colab": {
      "provenance": [],
      "authorship_tag": "ABX9TyOExe/RlKVlrV8Fx2/y4Ic9",
      "include_colab_link": true
    },
    "kernelspec": {
      "name": "python3",
      "display_name": "Python 3"
    },
    "language_info": {
      "name": "python"
    }
  },
  "cells": [
    {
      "cell_type": "markdown",
      "metadata": {
        "id": "view-in-github",
        "colab_type": "text"
      },
      "source": [
        "<a href=\"https://colab.research.google.com/github/muhammad-28/ICT-internship-ML-AI/blob/DAY-2/Day2.ipynb\" target=\"_parent\"><img src=\"https://colab.research.google.com/assets/colab-badge.svg\" alt=\"Open In Colab\"/></a>"
      ]
    },
    {
      "cell_type": "markdown",
      "source": [],
      "metadata": {
        "id": "SlxDpVASCh2s"
      }
    },
    {
      "cell_type": "markdown",
      "source": [
        "OOPS"
      ],
      "metadata": {
        "id": "UQJnCQE6ClPs"
      }
    },
    {
      "cell_type": "code",
      "source": [
        "class student():\n",
        "  def __init__(self,name ,roll_no,marks):\n",
        "    self.name=name\n",
        "    self.roll_no=roll_no\n",
        "    self.marks=marks\n",
        "\n",
        "\n",
        "students1=student('muhammad',34,10)\n",
        "\n",
        "\n",
        "students1.marks"
      ],
      "metadata": {
        "colab": {
          "base_uri": "https://localhost:8080/"
        },
        "id": "Wb6MTPNACpOT",
        "outputId": "b01f4816-13c4-44f7-8721-8bbbb99faccb"
      },
      "execution_count": null,
      "outputs": [
        {
          "output_type": "execute_result",
          "data": {
            "text/plain": [
              "10"
            ]
          },
          "metadata": {},
          "execution_count": 14
        }
      ]
    },
    {
      "cell_type": "code",
      "source": [
        "class studnet():\n",
        "  def __init__(mhd,name,roll_no,mark):\n",
        "    mhd.name=name\n",
        "    mhd.roll_no=roll_no\n",
        "    mhd.mark=mark\n",
        "\n",
        "\n",
        "\n",
        "students1=student('manu',50,40)\n",
        "students2=student(\"sonu\",55,45)\n",
        "\n",
        "\n",
        "\n",
        "\n",
        "students1.roll_no\n",
        "students1.name\n",
        "\n"
      ],
      "metadata": {
        "colab": {
          "base_uri": "https://localhost:8080/",
          "height": 35
        },
        "id": "pGPuCHkcEl8k",
        "outputId": "6a715474-3be7-4dd5-c59e-b8207c57e1e4"
      },
      "execution_count": null,
      "outputs": [
        {
          "output_type": "execute_result",
          "data": {
            "text/plain": [
              "'manu'"
            ],
            "application/vnd.google.colaboratory.intrinsic+json": {
              "type": "string"
            }
          },
          "metadata": {},
          "execution_count": 11
        }
      ]
    },
    {
      "cell_type": "code",
      "source": [
        "class student():\n",
        "  def __init__(self,name ,marks):\n",
        "    self.name=name\n",
        "    self.marks=marks\n",
        "\n",
        "\n",
        "def result(self):\n",
        "  if self.marks>40:\n",
        "    return 'pass'\n",
        "  else:\n",
        "    return 'fail'\n",
        "\n",
        "\n",
        "\n",
        "\n",
        "s1=student('mhd',45)\n",
        "s2=student('manu',10)\n",
        "s3=student('raju',30)\n",
        "s4=student('roy',20)\n",
        "\n",
        "\n",
        "\n",
        "students_name=[s1,s2,s3,s4]\n",
        "\n",
        "\n",
        "pass_list=[]\n",
        "fail_list=[]\n",
        "\n",
        "for x in students_name:\n",
        "  if x.result()=='pass':\n",
        "    pass_list.append(x.name)\n",
        "  else:\n",
        "    fail_list.append(x.name)"
      ],
      "metadata": {
        "colab": {
          "base_uri": "https://localhost:8080/",
          "height": 235
        },
        "id": "XzhZSyWpH4tI",
        "outputId": "d805c2ae-e879-42b1-cc49-c83844f2b8a2"
      },
      "execution_count": null,
      "outputs": [
        {
          "output_type": "error",
          "ename": "AttributeError",
          "evalue": "ignored",
          "traceback": [
            "\u001b[0;31m---------------------------------------------------------------------------\u001b[0m",
            "\u001b[0;31mAttributeError\u001b[0m                            Traceback (most recent call last)",
            "\u001b[0;32m<ipython-input-27-70768916b72a>\u001b[0m in \u001b[0;36m<cell line: 29>\u001b[0;34m()\u001b[0m\n\u001b[1;32m     28\u001b[0m \u001b[0;34m\u001b[0m\u001b[0m\n\u001b[1;32m     29\u001b[0m \u001b[0;32mfor\u001b[0m \u001b[0mx\u001b[0m \u001b[0;32min\u001b[0m \u001b[0mstudents_name\u001b[0m\u001b[0;34m:\u001b[0m\u001b[0;34m\u001b[0m\u001b[0;34m\u001b[0m\u001b[0m\n\u001b[0;32m---> 30\u001b[0;31m   \u001b[0;32mif\u001b[0m \u001b[0mx\u001b[0m\u001b[0;34m.\u001b[0m\u001b[0mresult\u001b[0m\u001b[0;34m(\u001b[0m\u001b[0;34m)\u001b[0m\u001b[0;34m==\u001b[0m\u001b[0;34m'pass'\u001b[0m\u001b[0;34m:\u001b[0m\u001b[0;34m\u001b[0m\u001b[0;34m\u001b[0m\u001b[0m\n\u001b[0m\u001b[1;32m     31\u001b[0m     \u001b[0mpass_list\u001b[0m\u001b[0;34m.\u001b[0m\u001b[0mappend\u001b[0m\u001b[0;34m(\u001b[0m\u001b[0mx\u001b[0m\u001b[0;34m.\u001b[0m\u001b[0mname\u001b[0m\u001b[0;34m)\u001b[0m\u001b[0;34m\u001b[0m\u001b[0;34m\u001b[0m\u001b[0m\n\u001b[1;32m     32\u001b[0m   \u001b[0;32melse\u001b[0m\u001b[0;34m:\u001b[0m\u001b[0;34m\u001b[0m\u001b[0;34m\u001b[0m\u001b[0m\n",
            "\u001b[0;31mAttributeError\u001b[0m: 'student' object has no attribute 'result'"
          ]
        }
      ]
    },
    {
      "cell_type": "code",
      "source": [
        "class Circle():\n",
        "    def __init__(self, r):\n",
        "        self.radius = r\n",
        "\n",
        "    def area(self):\n",
        "        return self.radius**2*3.14\n",
        "    \n",
        "    def perimeter(self):\n",
        "        return 2*self.radius*3.14\n",
        "\n",
        "NewCircle = Circle(5)\n",
        "print(NewCircle.area())\n",
        "print(NewCircle.perimeter())"
      ],
      "metadata": {
        "colab": {
          "base_uri": "https://localhost:8080/"
        },
        "id": "QzQ7wFRlVhd3",
        "outputId": "3c76aade-d3f7-4e86-efeb-660f7c19a522"
      },
      "execution_count": null,
      "outputs": [
        {
          "output_type": "stream",
          "name": "stdout",
          "text": [
            "78.5\n",
            "31.400000000000002\n"
          ]
        }
      ]
    },
    {
      "cell_type": "code",
      "source": [
        "class Bird:\n",
        "\n",
        "\tdef intro(self):\n",
        "\t\tprint(\"There are many types of birds.\")\n",
        "\n",
        "\tdef flight(self):\n",
        "\t\tprint(\"Most of the birds can fly but some cannot.\")\n",
        "\n",
        "class sparrow(Bird):\n",
        "\n",
        "\tdef flight(self):\n",
        "\t\tprint(\"Sparrows can fly.\")\n",
        "\n",
        "class ostrich(Bird):\n",
        "\n",
        "\tdef flight(self):\n",
        "\t\tprint(\"Ostriches cannot fly.\")\n",
        "\n",
        "obj_bird = Bird()\n",
        "obj_spr = sparrow()\n",
        "obj_ost = ostrich()\n",
        "\n",
        "obj_bird.intro()\n",
        "obj_bird.flight()\n",
        "\n",
        "obj_spr.intro()\n",
        "obj_spr.flight()\n",
        "\n",
        "obj_ost.intro()\n",
        "obj_ost.flight()\n"
      ],
      "metadata": {
        "colab": {
          "base_uri": "https://localhost:8080/"
        },
        "id": "jqDrVT_heFRv",
        "outputId": "2867e6dc-14bb-4ca4-c462-0f0f6e55c50a"
      },
      "execution_count": null,
      "outputs": [
        {
          "output_type": "stream",
          "name": "stdout",
          "text": [
            "There are many types of birds.\n",
            "Most of the birds can fly but some cannot.\n",
            "There are many types of birds.\n",
            "Sparrows can fly.\n",
            "There are many types of birds.\n",
            "Ostriches cannot fly.\n"
          ]
        }
      ]
    },
    {
      "cell_type": "code",
      "source": [
        "#class\n",
        "class student():\n",
        "  def __init__(self,name,roll_number,mark):\n",
        "    self.name =name\n",
        "    self.roll_number =roll_number\n",
        "    self.mark =mark\n",
        "\n",
        "students1=student('muhammad',34,30)\n",
        "print(students1.mark)\n",
        "students1.name"
      ],
      "metadata": {
        "colab": {
          "base_uri": "https://localhost:8080/",
          "height": 53
        },
        "id": "dM6n_KGX6txi",
        "outputId": "ab6661ab-41b5-4bd8-c437-7dd058ecd0f0"
      },
      "execution_count": 2,
      "outputs": [
        {
          "output_type": "stream",
          "name": "stdout",
          "text": [
            "30\n"
          ]
        },
        {
          "output_type": "execute_result",
          "data": {
            "text/plain": [
              "'muhammad'"
            ],
            "application/vnd.google.colaboratory.intrinsic+json": {
              "type": "string"
            }
          },
          "metadata": {},
          "execution_count": 2
        }
      ]
    },
    {
      "cell_type": "code",
      "source": [
        "class student():\n",
        "  def __init__(self,name,mark):\n",
        "    self.name =name\n",
        "    self.mark =mark\n",
        "  def result(self):\n",
        "    if self.mark>40:\n",
        "      return 'pass'  \n",
        "    else:\n",
        "      return 'fail'\n",
        "  \n",
        "passed= []\n",
        "fail= []\n",
        "\n",
        "\n",
        "students1=student('bilal',83)\n",
        "students2=student('muhammad',63)\n",
        "students3=student('nafl',50)\n",
        "students4=student('alfina',35)\n",
        "stud_name=[students1,students2,students3,students4]\n",
        "for x in stud_name:\n",
        "  if x.result()=='pass':\n",
        "    passed.append(x.name)\n",
        "  else:\n",
        "     fail.append(x.name) \n",
        "\n",
        "print(fail)\n",
        "print(passed)\n"
      ],
      "metadata": {
        "colab": {
          "base_uri": "https://localhost:8080/"
        },
        "id": "b4hksH1x61Ff",
        "outputId": "e1167085-d04f-4387-de7d-726756bed094"
      },
      "execution_count": 4,
      "outputs": [
        {
          "output_type": "stream",
          "name": "stdout",
          "text": [
            "['alfina']\n",
            "['bilal', 'muhammad', 'nafl']\n"
          ]
        }
      ]
    },
    {
      "cell_type": "code",
      "source": [
        "class Circle:\n",
        "    def __init__(self, radius):\n",
        "        self.radius = radius\n",
        "    def area(self):\n",
        "        return 3.14 * (self.radius ** 2)\n",
        "    def perimeter(self):\n",
        "        return 2 * 3.14 * self.radius\n",
        "r=int(input(\"Enter the radius: \"))\n",
        "r1 = Circle(r)\n",
        "print(\"Area:\", r1.area())\n",
        "print(\"Perimeter:\", r1.perimeter())"
      ],
      "metadata": {
        "colab": {
          "base_uri": "https://localhost:8080/"
        },
        "id": "7Y6TzJ6t7Vt1",
        "outputId": "a5ec7032-10a4-452d-e022-da72d4cc4923"
      },
      "execution_count": 6,
      "outputs": [
        {
          "output_type": "stream",
          "name": "stdout",
          "text": [
            "Enter the radius: 8\n",
            "Area: 200.96\n",
            "Perimeter: 50.24\n"
          ]
        }
      ]
    },
    {
      "cell_type": "code",
      "source": [
        "#polymorphism\n",
        "class Bird:\n",
        "  def intro(self):\n",
        "    \tprint(\"There are many types of birds.\")\n",
        "     \n",
        "  def flight(self):\n",
        "      print(\"Most of the birds can fly but some cannot.\")\n",
        "\n",
        "class sparrow(Bird):\n",
        "    def flight(self):\n",
        "    \t  print(\"Sparrows can fly.\")\n",
        "\n",
        "class ostrich(Bird):\n",
        "      def flight(self):\n",
        "      \tprint(\"Ostriches cannot fly.\")\n",
        "\t\n",
        "obj_bird = Bird()\n",
        "obj_spr = sparrow()\n",
        "obj_ost = ostrich()\n",
        "\n",
        "obj_bird.intro()\n",
        "obj_bird.flight()\n",
        "\n",
        "obj_spr.intro()\n",
        "obj_spr.flight()\n",
        "\n",
        "obj_ost.intro()\n",
        "obj_ost.flight()\n"
      ],
      "metadata": {
        "colab": {
          "base_uri": "https://localhost:8080/"
        },
        "id": "SbBDgaSW7fm_",
        "outputId": "b6b95102-bc7c-40bc-e960-eeb9f7467920"
      },
      "execution_count": 7,
      "outputs": [
        {
          "output_type": "stream",
          "name": "stdout",
          "text": [
            "There are many types of birds.\n",
            "Most of the birds can fly but some cannot.\n",
            "There are many types of birds.\n",
            "Sparrows can fly.\n",
            "There are many types of birds.\n",
            "Ostriches cannot fly.\n"
          ]
        }
      ]
    },
    {
      "cell_type": "markdown",
      "source": [
        "ASIGNMENT **2**"
      ],
      "metadata": {
        "id": "mwZ7dvOx70x_"
      }
    },
    {
      "cell_type": "code",
      "source": [
        "#QUESTION 1\n",
        "fruits = ['banana', 'orange', 'mango', 'lemon']\n",
        "reversed_fruits = []\n",
        "\n",
        "for i in range(len(fruits)-1, -1, -1):\n",
        "    reversed_fruits.append(fruits[i])\n",
        "\n",
        "print(reversed_fruits)"
      ],
      "metadata": {
        "colab": {
          "base_uri": "https://localhost:8080/"
        },
        "id": "_vrHKQmL759v",
        "outputId": "8076b18d-2a1a-4a36-c44f-2a4c0a32f2bc"
      },
      "execution_count": 8,
      "outputs": [
        {
          "output_type": "stream",
          "name": "stdout",
          "text": [
            "['lemon', 'mango', 'orange', 'banana']\n"
          ]
        }
      ]
    },
    {
      "cell_type": "code",
      "source": [
        "#QUESTION 2\n",
        "a = 0\n",
        "b = 1\n",
        "for i in range(10):\n",
        "    print(a, end=\" \")\n",
        "    c = a + b\n",
        "    a = b\n",
        "    b = c"
      ],
      "metadata": {
        "colab": {
          "base_uri": "https://localhost:8080/"
        },
        "id": "wgnzPwZ279ax",
        "outputId": "89a5e882-e51d-4e5d-8cb7-3d85935ae388"
      },
      "execution_count": 9,
      "outputs": [
        {
          "output_type": "stream",
          "name": "stdout",
          "text": [
            "0 1 1 2 3 5 8 13 21 34 "
          ]
        }
      ]
    },
    {
      "cell_type": "code",
      "source": [
        "#QUESTION 3\n",
        "def prime(n):\n",
        "    if n < 2:\n",
        "        return False\n",
        "    for i in range(2, n):\n",
        "        if n % i == 0:\n",
        "            return False\n",
        "    return True\n",
        "\n",
        "count = 0\n",
        "for i in range(0, 101):\n",
        "    if prime(i):\n",
        "        print(i)\n",
        "        count += 1\n",
        "\n",
        "print(f\"\\nThere are {count} prime numbers between 0 and 100.\")"
      ],
      "metadata": {
        "colab": {
          "base_uri": "https://localhost:8080/"
        },
        "id": "NnCpQplV8NYd",
        "outputId": "a20cd333-8334-4c0a-9d6d-f26b8c60f1f8"
      },
      "execution_count": 10,
      "outputs": [
        {
          "output_type": "stream",
          "name": "stdout",
          "text": [
            "2\n",
            "3\n",
            "5\n",
            "7\n",
            "11\n",
            "13\n",
            "17\n",
            "19\n",
            "23\n",
            "29\n",
            "31\n",
            "37\n",
            "41\n",
            "43\n",
            "47\n",
            "53\n",
            "59\n",
            "61\n",
            "67\n",
            "71\n",
            "73\n",
            "79\n",
            "83\n",
            "89\n",
            "97\n",
            "\n",
            "There are 25 prime numbers between 0 and 100.\n"
          ]
        }
      ]
    },
    {
      "cell_type": "code",
      "source": [
        "#QUESTION 4\n",
        "num = int(input(\"Enter a number: \"))\n",
        "if num % 2 == 0:\n",
        "    print(num,\"is even number\")\n",
        "    print(\"Square of\", num, \"is\", num**2)\n",
        "else:\n",
        "    print(num,\"is odd number\")\n",
        "    print(\"Cube of\", num, \"is\", num**3)"
      ],
      "metadata": {
        "colab": {
          "base_uri": "https://localhost:8080/"
        },
        "id": "BZ7rrVtl8RCi",
        "outputId": "de1b73e3-8941-406c-9f9b-18b419b9fd75"
      },
      "execution_count": 16,
      "outputs": [
        {
          "output_type": "stream",
          "name": "stdout",
          "text": [
            "Enter a number: 5\n",
            "5 is odd number\n",
            "Cube of 5 is 125\n"
          ]
        }
      ]
    },
    {
      "cell_type": "code",
      "source": [
        "#QUESTION 5\n",
        "sentence = input(\"Enter a sentence: \")\n",
        "words = sentence.split()\n",
        "longest_word = \"\"\n",
        "for word in words:\n",
        "    if len(word) > len(longest_word):\n",
        "        longest_word = word\n",
        "print(\"The longest word is:\", longest_word)"
      ],
      "metadata": {
        "colab": {
          "base_uri": "https://localhost:8080/"
        },
        "id": "p3psfy2V8YB8",
        "outputId": "2ee04413-751d-4b57-f13d-29d60f3f5d5b"
      },
      "execution_count": 15,
      "outputs": [
        {
          "output_type": "stream",
          "name": "stdout",
          "text": [
            "Enter a sentence: PYTHON TECH\n",
            "The longest word is: PYTHON\n"
          ]
        }
      ]
    },
    {
      "cell_type": "code",
      "source": [
        "3#QUESTION 6\n",
        "sum = 0\n",
        "count = 0\n",
        "while count < 5:\n",
        "    num = float(input(\"Enter number: \"))\n",
        "    sum += num\n",
        "    count += 1\n",
        "average = sum / 5\n",
        "print(\"The average of 5 numbers is: \", average)"
      ],
      "metadata": {
        "colab": {
          "base_uri": "https://localhost:8080/"
        },
        "id": "yHV1acFi8bMA",
        "outputId": "4bbf9ee9-b365-496d-c4c7-52032b6a47b4"
      },
      "execution_count": 14,
      "outputs": [
        {
          "output_type": "stream",
          "name": "stdout",
          "text": [
            "Enter number: 50\n",
            "Enter number: 25\n",
            "Enter number: 15\n",
            "Enter number: 6\n",
            "Enter number: 25\n",
            "The average of 5 numbers is:  24.2\n"
          ]
        }
      ]
    },
    {
      "cell_type": "code",
      "source": [
        "#QUESTION 7\n",
        "n = int(input(\"Enter a number:\"))\n",
        "tot = 0\n",
        "while(n > 0):\n",
        "    dig = n % 10\n",
        "    tot = tot + dig\n",
        "    n = n // 10\n",
        "print(\"The total sum of digits of the given number is:\", tot)"
      ],
      "metadata": {
        "colab": {
          "base_uri": "https://localhost:8080/"
        },
        "id": "u0xThKya8esa",
        "outputId": "b05f7920-20d4-4dd1-e117-f84c99b18f93"
      },
      "execution_count": 13,
      "outputs": [
        {
          "output_type": "stream",
          "name": "stdout",
          "text": [
            "Enter a number:25\n",
            "The total sum of digits of the given number is: 7\n"
          ]
        }
      ]
    },
    {
      "cell_type": "code",
      "source": [
        "#QUESTION 8\n",
        "principal = float(input(\"Enter the principal value: \"))\n",
        "rate = float(input(\"Enter the rate of interest: \"))\n",
        "years = int(input(\"Enter the number of years: \"))\n",
        "\n",
        "for year in range(1, years+1):\n",
        "    interest = principal * rate * year\n",
        "    amount = principal + interest\n",
        "    print(f\"Year :\",year)\n",
        "    print(f\"Interest = \",interest)\n",
        "    print(f\"Amount = \",amount)"
      ],
      "metadata": {
        "colab": {
          "base_uri": "https://localhost:8080/"
        },
        "id": "ghoKqN788hhS",
        "outputId": "efbcb6a5-efc0-4210-9d0f-09b6bd2cd944"
      },
      "execution_count": 12,
      "outputs": [
        {
          "output_type": "stream",
          "name": "stdout",
          "text": [
            "Enter the principal value: 50\n",
            "Enter the rate of interest: 12\n",
            "Enter the number of years: 2\n",
            "Year : 1\n",
            "Interest =  600.0\n",
            "Amount =  650.0\n",
            "Year : 2\n",
            "Interest =  1200.0\n",
            "Amount =  1250.0\n"
          ]
        }
      ]
    },
    {
      "cell_type": "code",
      "source": [
        "#QUESTION 9\n",
        "year = int(input(\"Enter the of year: \"))\n",
        "if year % 4 == 0:\n",
        "    if year % 100 == 0:\n",
        "        if year % 400 == 0:\n",
        "            print(\"True\")\n",
        "        else:\n",
        "            print(year,\"is not a Leap Year\")\n",
        "    else:\n",
        "        print(year,\"is Leap Year\")\n",
        "else:\n",
        "    print(\"False\")"
      ],
      "metadata": {
        "colab": {
          "base_uri": "https://localhost:8080/"
        },
        "id": "dHOBgFbB8j-E",
        "outputId": "45cc971a-7483-4183-cfa8-ba8f0a318469"
      },
      "execution_count": 11,
      "outputs": [
        {
          "output_type": "stream",
          "name": "stdout",
          "text": [
            "Enter the of year: 2002\n",
            "False\n"
          ]
        }
      ]
    }
  ]
}