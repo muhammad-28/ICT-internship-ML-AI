{
  "nbformat": 4,
  "nbformat_minor": 0,
  "metadata": {
    "colab": {
      "provenance": [],
      "authorship_tag": "ABX9TyNjy+/ne7nmavanIJPvlc+B",
      "include_colab_link": true
    },
    "kernelspec": {
      "name": "python3",
      "display_name": "Python 3"
    },
    "language_info": {
      "name": "python"
    }
  },
  "cells": [
    {
      "cell_type": "markdown",
      "metadata": {
        "id": "view-in-github",
        "colab_type": "text"
      },
      "source": [
        "<a href=\"https://colab.research.google.com/github/muhammad-28/ICT-internship-ML-AI/blob/DAY-1/intershipDay1.ipynb\" target=\"_parent\"><img src=\"https://colab.research.google.com/assets/colab-badge.svg\" alt=\"Open In Colab\"/></a>"
      ]
    },
    {
      "cell_type": "code",
      "execution_count": null,
      "metadata": {
        "colab": {
          "base_uri": "https://localhost:8080/",
          "height": 130
        },
        "id": "K-h-aU-1BtOq",
        "outputId": "485835bf-68f5-4980-8847-f6d665543e26"
      },
      "outputs": [
        {
          "output_type": "error",
          "ename": "SyntaxError",
          "evalue": "ignored",
          "traceback": [
            "\u001b[0;36m  File \u001b[0;32m\"<ipython-input-10-2a5d92f0bfc5>\"\u001b[0;36m, line \u001b[0;32m1\u001b[0m\n\u001b[0;31m    int name=[\"bilal\",\"muhammad\",\"amina\"]\u001b[0m\n\u001b[0m        ^\u001b[0m\n\u001b[0;31mSyntaxError\u001b[0m\u001b[0;31m:\u001b[0m invalid syntax\n"
          ]
        }
      ],
      "source": [
        "name=['bilal','muhammad','amina']\n",
        "reverse=[]\n",
        "  for i in range(len(name)):\n",
        "    reverse.append(name)\n"
      ]
    },
    {
      "cell_type": "code",
      "source": [
        "a='* * * * * *'\n",
        "for i in range(6):\n",
        "\n",
        " print (a)"
      ],
      "metadata": {
        "colab": {
          "base_uri": "https://localhost:8080/"
        },
        "id": "rZPvYrBGICB5",
        "outputId": "a561bf87-a02f-4049-96a5-0a48cc5beeed"
      },
      "execution_count": null,
      "outputs": [
        {
          "output_type": "stream",
          "name": "stdout",
          "text": [
            "* * * * * *\n",
            "* * * * * *\n",
            "* * * * * *\n",
            "* * * * * *\n",
            "* * * * * *\n",
            "* * * * * *\n"
          ]
        }
      ]
    },
    {
      "cell_type": "code",
      "source": [
        "i='*'\n",
        "j='*'\n",
        "for i in range(5):\n",
        " for j in range(5):\n",
        "    print('*',end='')\n",
        "  print('')"
      ],
      "metadata": {
        "colab": {
          "base_uri": "https://localhost:8080/",
          "height": 130
        },
        "id": "3otz8RlLKmQZ",
        "outputId": "3d4fffd1-c53e-4095-9ce9-4769fd24edf7"
      },
      "execution_count": null,
      "outputs": [
        {
          "output_type": "error",
          "ename": "IndentationError",
          "evalue": "ignored",
          "traceback": [
            "\u001b[0;36m  File \u001b[0;32m\"<tokenize>\"\u001b[0;36m, line \u001b[0;32m6\u001b[0m\n\u001b[0;31m    print('')\u001b[0m\n\u001b[0m    ^\u001b[0m\n\u001b[0;31mIndentationError\u001b[0m\u001b[0;31m:\u001b[0m unindent does not match any outer indentation level\n"
          ]
        }
      ]
    },
    {
      "cell_type": "code",
      "source": [
        "print('hello world')"
      ],
      "metadata": {
        "colab": {
          "base_uri": "https://localhost:8080/"
        },
        "id": "LZt6gBKlOHiW",
        "outputId": "5c9cab5d-d338-460b-fbb0-1c74ed03ce10"
      },
      "execution_count": null,
      "outputs": [
        {
          "output_type": "stream",
          "name": "stdout",
          "text": [
            "hello world\n"
          ]
        }
      ]
    },
    {
      "cell_type": "code",
      "source": [
        "print(\"welcome to\",end='')\n"
      ],
      "metadata": {
        "colab": {
          "base_uri": "https://localhost:8080/"
        },
        "id": "B31pq6izTQTI",
        "outputId": "11b3c867-b416-4189-f127-e267c710c8dd"
      },
      "execution_count": null,
      "outputs": [
        {
          "output_type": "stream",
          "name": "stdout",
          "text": [
            "welcome to"
          ]
        }
      ]
    },
    {
      "cell_type": "code",
      "source": [
        "print(\"welcome to\",end='!')"
      ],
      "metadata": {
        "colab": {
          "base_uri": "https://localhost:8080/"
        },
        "id": "N36Bkm_VTe2v",
        "outputId": "a9aaad12-57ff-4f15-ca98-ddcaa8efd644"
      },
      "execution_count": null,
      "outputs": [
        {
          "output_type": "stream",
          "name": "stdout",
          "text": [
            "welcome to!"
          ]
        }
      ]
    },
    {
      "cell_type": "code",
      "source": [
        "print(\"\\\"welcome to\\\"\")"
      ],
      "metadata": {
        "colab": {
          "base_uri": "https://localhost:8080/"
        },
        "id": "xUCI2raUTqiG",
        "outputId": "e89d6415-75fd-4f35-c233-a89f723e275e"
      },
      "execution_count": null,
      "outputs": [
        {
          "output_type": "stream",
          "name": "stdout",
          "text": [
            "\"welcome to\"\n"
          ]
        }
      ]
    },
    {
      "cell_type": "code",
      "source": [
        "print(\"muhammad\\n\"*3)\n",
        "      "
      ],
      "metadata": {
        "colab": {
          "base_uri": "https://localhost:8080/"
        },
        "id": "mLdIg1Q_USL9",
        "outputId": "b2440c74-c65d-47c2-cd8d-de1208d426c4"
      },
      "execution_count": null,
      "outputs": [
        {
          "output_type": "stream",
          "name": "stdout",
          "text": [
            "muhammad\n",
            "muhammad\n",
            "muhammad\n",
            "\n"
          ]
        }
      ]
    },
    {
      "cell_type": "code",
      "source": [
        "s=\"python\"\n",
        "print(s[])\n",
        "\n",
        "print(len(s))"
      ],
      "metadata": {
        "colab": {
          "base_uri": "https://localhost:8080/"
        },
        "id": "1BmnmzVjYJ_5",
        "outputId": "dd3f32d3-6ea7-45d5-d77c-698795040ceb"
      },
      "execution_count": null,
      "outputs": [
        {
          "output_type": "stream",
          "name": "stdout",
          "text": [
            "ytho\n",
            "6\n"
          ]
        }
      ]
    },
    {
      "cell_type": "code",
      "source": [
        "for val in sequence:\n",
        "  body of for"
      ],
      "metadata": {
        "id": "TNZJyjgroFv1"
      },
      "execution_count": null,
      "outputs": []
    },
    {
      "cell_type": "code",
      "source": [
        "a=[1,2,3,4,5,6]\n",
        "for number in a:\n",
        "   print(number)\n",
        "          "
      ],
      "metadata": {
        "colab": {
          "base_uri": "https://localhost:8080/"
        },
        "id": "LXwq1Gy0s8a2",
        "outputId": "f3b9346e-e092-441f-f3fe-c6e9368c424e"
      },
      "execution_count": null,
      "outputs": [
        {
          "output_type": "stream",
          "name": "stdout",
          "text": [
            "1\n",
            "2\n",
            "3\n",
            "4\n",
            "5\n",
            "6\n"
          ]
        }
      ]
    },
    {
      "cell_type": "markdown",
      "source": [
        "functions"
      ],
      "metadata": {
        "id": "QP5lZXbeFXxE"
      }
    },
    {
      "cell_type": "code",
      "source": [
        "def function_name(argument):"
      ],
      "metadata": {
        "colab": {
          "base_uri": "https://localhost:8080/",
          "height": 130
        },
        "id": "NCW_fqiXFEbb",
        "outputId": "3684f414-c189-4869-cff1-aca6fce5ab7f"
      },
      "execution_count": null,
      "outputs": [
        {
          "output_type": "error",
          "ename": "SyntaxError",
          "evalue": "ignored",
          "traceback": [
            "\u001b[0;36m  File \u001b[0;32m\"<ipython-input-19-581c0797891f>\"\u001b[0;36m, line \u001b[0;32m1\u001b[0m\n\u001b[0;31m    def function_name(argument):\u001b[0m\n\u001b[0m                                ^\u001b[0m\n\u001b[0;31mSyntaxError\u001b[0m\u001b[0;31m:\u001b[0m incomplete input\n"
          ]
        }
      ]
    },
    {
      "cell_type": "code",
      "source": [
        "a=1\n",
        "while a < 10:\n",
        "  print (a)\n",
        "  a += 2"
      ],
      "metadata": {
        "colab": {
          "base_uri": "https://localhost:8080/"
        },
        "id": "udih6TwkuHfJ",
        "outputId": "31a989fb-55c4-40e7-c77d-22aeb18ca8e4"
      },
      "execution_count": null,
      "outputs": [
        {
          "output_type": "stream",
          "name": "stdout",
          "text": [
            "1\n",
            "3\n",
            "5\n",
            "7\n",
            "9\n"
          ]
        }
      ]
    },
    {
      "cell_type": "code",
      "source": [
        "for val in 'string':\n",
        "  if val == \"i\":\n",
        "    continue\n",
        "  print(val)\n",
        "print(\"the end\")"
      ],
      "metadata": {
        "colab": {
          "base_uri": "https://localhost:8080/"
        },
        "id": "cYQ4eRdhvisH",
        "outputId": "6652c730-7f99-4281-c650-c4b75c1f786e"
      },
      "execution_count": null,
      "outputs": [
        {
          "output_type": "stream",
          "name": "stdout",
          "text": [
            "s\n",
            "t\n",
            "r\n",
            "n\n",
            "g\n",
            "the end\n"
          ]
        }
      ]
    },
    {
      "cell_type": "code",
      "source": [
        "a=int(input('enter the number 1: '))\n",
        "b=int(input('enter the number 2: '))\n",
        "c=int(input('enter the choice sum=1,sub=2,mul=3,div=4'))\n",
        "if c==1:\n",
        "  s=a+b\n",
        "  print(s)\n",
        "elif c==2:\n",
        "    s=a-b\n",
        "    print(s)\n",
        "elif c==3:\n",
        "      s=a*b\n",
        "      print(s)\n",
        "elif c==4:\n",
        "        s=a/b\n",
        "        print(s)\n",
        "else:\n",
        "          print(error)"
      ],
      "metadata": {
        "colab": {
          "base_uri": "https://localhost:8080/"
        },
        "id": "-k3CN93rw595",
        "outputId": "71c8d717-b215-4155-d24d-bc4299657b97"
      },
      "execution_count": null,
      "outputs": [
        {
          "output_type": "stream",
          "name": "stdout",
          "text": [
            "enter the number 1: 5\n",
            "enter the number 2: 5\n",
            "enter the choice sum=1,sub=2,mul=3,div=43\n",
            "25\n"
          ]
        }
      ]
    },
    {
      "cell_type": "code",
      "source": [
        "num = int(input(\"Enter a number: \"))\n",
        "if num > 1: \n",
        "   for i in range(2,num):\n",
        "       if (num % i) == 0:\n",
        "           print(num,\"is not a prime number\")\n",
        "           break\n",
        "   else:\n",
        "       print(num,\"is a prime number\")\n",
        "else:\n",
        "   print(num,\"is not a prime number\")"
      ],
      "metadata": {
        "colab": {
          "base_uri": "https://localhost:8080/"
        },
        "id": "eCqu4jzM1hM6",
        "outputId": "abc5fd55-6da8-4052-f6ae-0632c306aa1e"
      },
      "execution_count": null,
      "outputs": [
        {
          "output_type": "stream",
          "name": "stdout",
          "text": [
            "Enter a number: 15\n",
            "15 is not a prime number\n"
          ]
        }
      ]
    },
    {
      "cell_type": "code",
      "source": [
        "a=int(input(\"enter the year:\"))\n",
        "if a%4==0 and a%400==0 or a%100!=0:\n",
        "  print('leap year')\n",
        "else:\n",
        "  print('not a leap year')"
      ],
      "metadata": {
        "colab": {
          "base_uri": "https://localhost:8080/"
        },
        "id": "1dsW7o3u9bu1",
        "outputId": "3e92674e-21bd-4a06-879d-f0836ced6145"
      },
      "execution_count": null,
      "outputs": [
        {
          "output_type": "stream",
          "name": "stdout",
          "text": [
            "enter the year:2020\n",
            "leap year\n"
          ]
        }
      ]
    },
    {
      "cell_type": "code",
      "source": [
        "n=int(input(\"enter the number\"))\n",
        "s=0\n",
        "for i in range(0,n+1):\n",
        "  s=s+i\n",
        "print(s)\n"
      ],
      "metadata": {
        "colab": {
          "base_uri": "https://localhost:8080/"
        },
        "id": "h0mP9jfD-kn4",
        "outputId": "c658267d-4c18-4d21-f3da-2c4b1160dab6"
      },
      "execution_count": null,
      "outputs": [
        {
          "output_type": "stream",
          "name": "stdout",
          "text": [
            "enter the number3\n",
            "6\n"
          ]
        }
      ]
    },
    {
      "cell_type": "code",
      "source": [
        "def greet():\n",
        "  print('hello')\n",
        "\n",
        "\n",
        "greet() "
      ],
      "metadata": {
        "colab": {
          "base_uri": "https://localhost:8080/"
        },
        "id": "PjsIpW0AFl4v",
        "outputId": "78fae6de-6824-49d6-cbbb-78110e04085b"
      },
      "execution_count": null,
      "outputs": [
        {
          "output_type": "stream",
          "name": "stdout",
          "text": [
            "hello\n"
          ]
        }
      ]
    },
    {
      "cell_type": "code",
      "source": [
        "def add(num1,num2):\n",
        "  s=num1+num2\n",
        "  print(s)\n",
        "\n",
        "\n",
        "\n",
        "add(5,6)  "
      ],
      "metadata": {
        "colab": {
          "base_uri": "https://localhost:8080/"
        },
        "id": "IYvoOJIDF4dt",
        "outputId": "853275c7-a06a-4c1a-a462-3b21ada9cea7"
      },
      "execution_count": null,
      "outputs": [
        {
          "output_type": "stream",
          "name": "stdout",
          "text": [
            "11\n"
          ]
        }
      ]
    },
    {
      "cell_type": "code",
      "source": [
        "def sqn(num1):\n",
        "  s=num1*num1\n",
        "  print(s)\n",
        "\n",
        "\n",
        "\n",
        "sqn(5)  \n",
        "\n"
      ],
      "metadata": {
        "colab": {
          "base_uri": "https://localhost:8080/"
        },
        "id": "WjI7RsBIJioA",
        "outputId": "61b0f0d0-6893-4e60-95ab-3ee4bfbf5387"
      },
      "execution_count": null,
      "outputs": [
        {
          "output_type": "stream",
          "name": "stdout",
          "text": [
            "25\n"
          ]
        }
      ]
    },
    {
      "cell_type": "markdown",
      "source": [
        "Assignment 1"
      ],
      "metadata": {
        "id": "3FTRmgOB_bKI"
      }
    },
    {
      "cell_type": "code",
      "source": [
        "list=[1,5,3,14,25,21]\n",
        "s=0\n",
        "for i in list:\n",
        "  s=s+i\n",
        "  print(\"the sum is:\",s)"
      ],
      "metadata": {
        "colab": {
          "base_uri": "https://localhost:8080/"
        },
        "id": "9RYbTrNVzViP",
        "outputId": "006d190d-93ec-4b72-d4d0-6271113faf1a"
      },
      "execution_count": null,
      "outputs": [
        {
          "output_type": "stream",
          "name": "stdout",
          "text": [
            "the sum is: 1\n",
            "the sum is: 6\n",
            "the sum is: 9\n",
            "the sum is: 23\n",
            "the sum is: 48\n",
            "the sum is: 69\n"
          ]
        }
      ]
    },
    {
      "cell_type": "code",
      "source": [
        "string = input(\"enter the string:\")\n",
        "print(len(string))"
      ],
      "metadata": {
        "colab": {
          "base_uri": "https://localhost:8080/"
        },
        "id": "un5Q2y6uzaVg",
        "outputId": "d7af148c-7901-4f31-d8e4-95fd71d0985c"
      },
      "execution_count": null,
      "outputs": [
        {
          "output_type": "stream",
          "name": "stdout",
          "text": [
            "enter the string:muhammad\n",
            "8\n"
          ]
        }
      ]
    },
    {
      "cell_type": "code",
      "source": [
        "string = input(\"enter the string:\")\n",
        "print(len(string))\n",
        "print(len(string)//2)"
      ],
      "metadata": {
        "colab": {
          "base_uri": "https://localhost:8080/"
        },
        "id": "h5pJpqLGzgoD",
        "outputId": "0c039951-68c7-4a7e-f6ff-25c7ed0956d6"
      },
      "execution_count": null,
      "outputs": [
        {
          "output_type": "stream",
          "name": "stdout",
          "text": [
            "enter the string:python\n",
            "6\n",
            "3\n"
          ]
        }
      ]
    },
    {
      "cell_type": "code",
      "source": [
        "s1 = input(\"enter the first string:\")\n",
        "s2 = input(\"enter the second string:\")\n",
        "newstring = s1+\" \"+s2\n",
        "print(\"sum of two strings are:\",newstring)\n",
        "print(len(newstring))"
      ],
      "metadata": {
        "colab": {
          "base_uri": "https://localhost:8080/"
        },
        "id": "h4g8f6sWzq0d",
        "outputId": "b2e74223-b890-41cd-983b-07cae1b73f59"
      },
      "execution_count": null,
      "outputs": [
        {
          "output_type": "stream",
          "name": "stdout",
          "text": [
            "enter the first string:python\n",
            "enter the second string:techy\n",
            "sum of two strings are: python techy\n",
            "12\n"
          ]
        }
      ]
    },
    {
      "cell_type": "code",
      "source": [
        "t = (78, 45, 32, 19, 82, 77, 40, 39)\n",
        "print(\"Original tuple:\", t)\n",
        "m = t[0:2] + (100,) + t[3:len(t)]\n",
        "print(\"Modified tuple:\", m)"
      ],
      "metadata": {
        "colab": {
          "base_uri": "https://localhost:8080/"
        },
        "id": "2MhCvMaB4WZk",
        "outputId": "457a12f9-2b43-4ad1-8308-1fc22e744aef"
      },
      "execution_count": null,
      "outputs": [
        {
          "output_type": "stream",
          "name": "stdout",
          "text": [
            "Original tuple: (78, 45, 32, 19, 82, 77, 40, 39)\n",
            "Modified tuple: (78, 45, 100, 19, 82, 77, 40, 39)\n"
          ]
        }
      ]
    },
    {
      "cell_type": "code",
      "source": [
        "lstA = [19, 32, 10, 55, 31, 32, 94, 29, 10, 65, 77, 40, 40]\n",
        "for i in range(len(lstA)):\n",
        "    if lstA[i] == 32:\n",
        "        del lstA[i]\n",
        "        break\n",
        "\n",
        "print(\"List after deleting first occurrence of 32:\", lstA)\n",
        "for i in range(len(lstA)):\n",
        "    if lstA[i] == '40':\n",
        "        del lstA[i]\n",
        "        i -= 1\n",
        "\n",
        "print(\"List after deleting all occurrences of 40:\", lstA)\n",
        "del lstA[5]\n",
        "print(\"List after deleting value at index 5:\", lstA)\n",
        "lstA[9] = 300\n",
        "print(\"List after modifying value at index 9 to 300:\", lstA)\n",
        "lstA = lstA[:2] + [200] + lstA[2:]\n",
        "print(\"List after adding 200 at index 2:\", lstA)\n",
        "print(\"Final list:\", lstA)\n",
        "print(\"Length of list:\", len(lstA))\n",
        "p=lstA[1]\n",
        "for i in range(2,len(lstA)):\n",
        "    if p<lstA[i]:\n",
        "      p=lstA[i]\n",
        "\n",
        "print(\"Maximum value of list:\", p)\n",
        "s=0\n",
        "for i in range(len(lstA)):\n",
        "  s=s+lstA[i]\n",
        "print(\"Sum of all elements in list:\",s)\n"
      ],
      "metadata": {
        "colab": {
          "base_uri": "https://localhost:8080/"
        },
        "id": "DGB02JvV444V",
        "outputId": "ab138ba9-f322-4386-fb15-f589d0506e77"
      },
      "execution_count": null,
      "outputs": [
        {
          "output_type": "stream",
          "name": "stdout",
          "text": [
            "List after deleting first occurrence of 32: [19, 10, 55, 31, 32, 94, 29, 10, 65, 77, 40, 40]\n",
            "List after deleting all occurrences of 40: [19, 10, 55, 31, 32, 94, 29, 10, 65, 77, 40, 40]\n",
            "List after deleting value at index 5: [19, 10, 55, 31, 32, 29, 10, 65, 77, 40, 40]\n",
            "List after modifying value at index 9 to 300: [19, 10, 55, 31, 32, 29, 10, 65, 77, 300, 40]\n",
            "List after adding 200 at index 2: [19, 10, 200, 55, 31, 32, 29, 10, 65, 77, 300, 40]\n",
            "Final list: [19, 10, 200, 55, 31, 32, 29, 10, 65, 77, 300, 40]\n",
            "Length of list: 12\n",
            "Maximum value of list: 300\n",
            "Sum of all elements in list: 868\n"
          ]
        }
      ]
    }
  ]
}